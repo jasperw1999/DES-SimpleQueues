{
 "cells": [
  {
   "cell_type": "code",
   "execution_count": 9,
   "id": "f2041508",
   "metadata": {},
   "outputs": [],
   "source": [
    "import simpy\n",
    "import numpy as np\n",
    "import matplotlib.pyplot as plt\n",
    "import random\n",
    "from tqdm import tqdm"
   ]
  },
  {
   "cell_type": "code",
   "execution_count": 28,
   "id": "4c3e8a81",
   "metadata": {},
   "outputs": [],
   "source": [
    "def task(env, server, processing_time, waiting_time):\n",
    "    \"\"\"task arrives, is served and leaves.\"\"\"\n",
    "    arrive = env.now\n",
    "    with server.request() as req:\n",
    "        yield req\n",
    "        waiting_time.append(env.now-arrive)\n",
    "        #print('Task %s arrived at: %7.4f: ' % (arrive))\n",
    "        yield env.timeout(processing_time)\n",
    "        #print('Task %s finished at %s' % (env.now))"
   ]
  },
  {
   "cell_type": "code",
   "execution_count": 68,
   "id": "2f39840b",
   "metadata": {},
   "outputs": [],
   "source": [
    "class Setup(object):\n",
    "    def __init__(self, env, arrival_rate, processing_capacity, server, waiting_times, desired_var):\n",
    "        self.env = env\n",
    "        self.arrival_rate = arrival_rate\n",
    "        self.processing_capacity = processing_capacity\n",
    "        self.server = server\n",
    "        self.waiting_times = waiting_times\n",
    "        self.converged = env.event()\n",
    "        self.desired_var = desired_var\n",
    "        self.action = env.process(self.run())\n",
    "    \n",
    "    def run(self):\n",
    "        while True:\n",
    "            if  len(self.waiting_times)>1000:\n",
    "                waiting_rate = 1/np.mean(self.waiting_times)\n",
    "                var = 1/(len(self.waiting_times)*waiting_rate**2)\n",
    "                if var < self.desired_var:\n",
    "                    self.converged.succeed()\n",
    "                    self.converged = self.env.event()\n",
    "                    \n",
    "            arrival_time = random.expovariate(self.arrival_rate)\n",
    "            yield env.timeout(arrival_time)\n",
    "\n",
    "            processing_time = random.expovariate(self.processing_capacity)\n",
    "            env.process(task(self.env, self.server, processing_time, waiting_times))"
   ]
  },
  {
   "cell_type": "code",
   "execution_count": 16,
   "id": "b11cc9d2",
   "metadata": {},
   "outputs": [
    {
     "name": "stdout",
     "output_type": "stream",
     "text": [
      "66.84653339003606 0.4559652067617556\n",
      "999998.9999712444\n"
     ]
    },
    {
     "data": {
      "image/png": "[encoded data removed]",
      "text/plain": [
       "<Figure size 432x288 with 1 Axes>"
      ]
     },
     "metadata": {
      "needs_background": "light"
     },
     "output_type": "display_data"
    }
   ],
   "source": [
    "plt.hist(waitingtimes)\n",
    "mean = np.mean(waitingtimes)\n",
    "var = 1/(len(waitingtimes)*mean**-2)\n",
    "print(mean, var)\n",
    "print((server_util/capacity)/(1-server_util))"
   ]
  },
  {
   "cell_type": "code",
   "execution_count": 79,
   "id": "b644d98e",
   "metadata": {},
   "outputs": [
    {
     "name": "stderr",
     "output_type": "stream",
     "text": [
      "calculate number of samples: 100%|███████████████████████████████████████████████████████| 5/5 [00:00<00:00, 31.62it/s]\n"
     ]
    }
   ],
   "source": [
    "n_steps = 5\n",
    "n_servers = 1\n",
    "arrival_rate = 1\n",
    "init_util = 0.7\n",
    "server_util = np.linspace(init_util, 0.9, n_steps)\n",
    "processing_capacity = arrival_rate/server_util\n",
    "desired_var = 0.001\n",
    "n_samples = np.zeros(n_steps)\n",
    "for i in tqdm(range(n_steps), desc='calculate number of samples'):\n",
    "    env = simpy.Environment()\n",
    "    servers = simpy.Resource(env, capacity=n_servers)\n",
    "    waiting_times = []\n",
    "    setup = Setup(env, arrival_rate, processing_capacity[i], servers, waiting_times, desired_var)\n",
    "    env.run(until=setup.converged)\n",
    "    n_samples[i] = len(setup.waiting_times)"
   ]
  },
  {
   "cell_type": "code",
   "execution_count": 80,
   "id": "1450ee28",
   "metadata": {},
   "outputs": [
    {
     "data": {
      "text/plain": [
       "[<matplotlib.lines.Line2D at 0x249e48223a0>]"
      ]
     },
     "execution_count": 80,
     "metadata": {},
     "output_type": "execute_result"
    },
    {
     "data": {
      "image/png": "[encoded data removed]",
      "text/plain": [
       "<Figure size 432x288 with 1 Axes>"
      ]
     },
     "metadata": {
      "needs_background": "light"
     },
     "output_type": "display_data"
    }
   ],
   "source": [
    "plt.plot(server_util,n_samples)"
   ]
  }
 ],
 "metadata": {
  "kernelspec": {
   "display_name": "Python 3 (ipykernel)",
   "language": "python",
   "name": "python3"
  },
  "language_info": {
   "codemirror_mode": {
    "name": "ipython",
    "version": 3
   },
   "file_extension": ".py",
   "mimetype": "text/x-python",
   "name": "python",
   "nbconvert_exporter": "python",
   "pygments_lexer": "ipython3",
   "version": "3.8.12"
  }
 },
 "nbformat": 4,
 "nbformat_minor": 5
}
