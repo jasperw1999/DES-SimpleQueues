{
 "cells": [
  {
   "cell_type": "code",
   "execution_count": 192,
   "id": "f2041508",
   "metadata": {},
   "outputs": [],
   "source": [
    "import simpy\n",
    "import numpy as np\n",
    "import matplotlib.pyplot as plt\n",
    "import random\n",
    "from tqdm import tqdm\n",
    "from sklearn.metrics import mean_squared_error\n",
    "from plot_params import * \n",
    "from scipy.stats import anderson, expon"
   ]
  },
  {
   "cell_type": "code",
   "execution_count": 2,
   "id": "4c3e8a81",
   "metadata": {},
   "outputs": [],
   "source": [
    "def task(env, server, processing_time, waiting_time):\n",
    "    \"\"\"task arrives, is served and leaves.\"\"\"\n",
    "    arrive = env.now\n",
    "    with server.request() as req:\n",
    "        yield req\n",
    "        waiting_time.append(env.now-arrive)\n",
    "        #print('Task %s arrived at: %7.4f: ' % (arrive))\n",
    "        yield env.timeout(processing_time)\n",
    "        #print('Task %s finished at %s' % (env.now))"
   ]
  },
  {
   "cell_type": "code",
   "execution_count": 173,
   "id": "2f39840b",
   "metadata": {},
   "outputs": [],
   "source": [
    "class Setup_mse(object):\n",
    "    def __init__(self, env, arrival_rate, processing_capacity, server, waiting_times, desired_mse):\n",
    "        self.env = env\n",
    "        self.arrival_rate = arrival_rate\n",
    "        self.processing_capacity = processing_capacity\n",
    "        self.server = server\n",
    "        self.waiting_times = waiting_times\n",
    "        self.converged = env.event()\n",
    "        self.desired_mse = desired_mse\n",
    "        self.action = env.process(self.run())\n",
    "    \n",
    "    def run(self):\n",
    "        while True:\n",
    "            if  len(self.waiting_times)>50:\n",
    "                waiting_time_mean = np.mean(self.waiting_times)\n",
    "                #mse = (np.square(self.waiting_times - waiting_time_mean)).mean(axis=0)\n",
    "                mse = mean_squared_error(self.waiting_times, [waiting_time_mean]*len(self.waiting_times))/len(self.waiting_times)\n",
    "                #print(mse)\n",
    "                #se = 1/(len(self.waiting_times)*waiting_rate**2)\n",
    "                if mse < self.desired_mse:\n",
    "                    self.converged.succeed()\n",
    "                    self.converged = self.env.event()\n",
    "                    \n",
    "            arrival_time = random.expovariate(self.arrival_rate)\n",
    "            yield env.timeout(arrival_time)\n",
    "\n",
    "            processing_time = random.expovariate(self.processing_capacity)\n",
    "            env.process(task(self.env, self.server, processing_time, waiting_times))\n",
    "            \n",
    "class Setup_samples(object):\n",
    "    def __init__(self, env, arrival_rate, processing_capacity, server, waiting_times, n_samples):\n",
    "        self.env = env\n",
    "        self.arrival_rate = arrival_rate\n",
    "        self.processing_capacity = processing_capacity\n",
    "        self.server = server\n",
    "        self.waiting_times = waiting_times\n",
    "        self.n_samples_reached = env.event()\n",
    "        self.n_samples = n_samples\n",
    "        self.action = env.process(self.run())\n",
    "    \n",
    "    def run(self):\n",
    "        while True:\n",
    "            if  len(self.waiting_times)>self.n_samples:\n",
    "                self.n_samples_reached.succeed()\n",
    "                self.n_samples_reached = self.env.event()\n",
    "            \n",
    "            arrival_time = random.expovariate(self.arrival_rate)\n",
    "            yield env.timeout(arrival_time)\n",
    "            processing_time = random.expovariate(self.processing_capacity)\n",
    "            env.process(task(self.env, self.server, processing_time, waiting_times))"
   ]
  },
  {
   "cell_type": "code",
   "execution_count": 16,
   "id": "b11cc9d2",
   "metadata": {},
   "outputs": [
    {
     "name": "stdout",
     "output_type": "stream",
     "text": [
      "66.84653339003606 0.4559652067617556\n",
      "999998.9999712444\n"
     ]
    },
    {
     "data": {
      "image/png": "[encoded data removed]",
      "text/plain": [
       "<Figure size 432x288 with 1 Axes>"
      ]
     },
     "metadata": {
      "needs_background": "light"
     },
     "output_type": "display_data"
    }
   ],
   "source": [
    "plt.hist(waitingtimes)\n",
    "mean = np.mean(waitingtimes)\n",
    "var = 1/(len(waitingtimes)*mean**-2)\n",
    "print(mean, var)\n",
    "print((server_util/capacity)/(1-server_util))"
   ]
  },
  {
   "cell_type": "code",
   "execution_count": 231,
   "id": "b644d98e",
   "metadata": {},
   "outputs": [
    {
     "name": "stderr",
     "output_type": "stream",
     "text": [
      "calculate number of samples: 100%|█████████████████████████████████████████████████████| 20/20 [00:06<00:00,  3.12it/s]\n"
     ]
    }
   ],
   "source": [
    "n_steps = 20\n",
    "n_servers = 1\n",
    "arrival_rate = 1\n",
    "init_util = 0.5\n",
    "final_util = 0.9\n",
    "server_util = np.linspace(init_util, final_util, n_steps)\n",
    "processing_capacity = 1/server_util\n",
    "desired_mse = 0.5\n",
    "n_samples = 10000\n",
    "n_samples_var = np.zeros(n_steps)\n",
    "mean_waiting = np.zeros(n_steps)\n",
    "mse_waiting = np.zeros(n_steps)\n",
    "for i in tqdm(range(n_steps), desc='calculate number of samples'):\n",
    "    env = simpy.Environment()\n",
    "    servers = simpy.Resource(env, capacity=n_servers)\n",
    "    waiting_times = []\n",
    "    setup = Setup_mse(env, arrival_rate, processing_capacity[i], servers, waiting_times, desired_mse)\n",
    "    env.run(until=setup.converged)\n",
    "    n_samples_var[i] = len(setup.waiting_times)\n",
    "\n",
    "    env = simpy.Environment()\n",
    "    servers1 = simpy.Resource(env, capacity=n_servers)\n",
    "    waiting_times = []\n",
    "    setup1 = Setup_samples(env, arrival_rate, processing_capacity[i], servers1, waiting_times, n_samples)\n",
    "    env.run(until=setup1.n_samples_reached)\n",
    "    mean_waiting[i] = np.mean(setup1.waiting_times[100:])\n",
    "    #mse_waiting[i] = (np.square(setup1.waiting_times - mean_waiting[i])).mean(axis=0)\n",
    "    n = len(setup1.waiting_times[100:])\n",
    "    mse_waiting[i] = mean_squared_error(setup1.waiting_times[100:], [mean_waiting[i]]*n)/n\n"
   ]
  },
  {
   "cell_type": "code",
   "execution_count": 232,
   "id": "1450ee28",
   "metadata": {},
   "outputs": [
    {
     "data": {
      "image/png": "[encoded data removed]",
      "text/plain": [
       "<Figure size 504x432 with 1 Axes>"
      ]
     },
     "metadata": {
      "needs_background": "light"
     },
     "output_type": "display_data"
    }
   ],
   "source": [
    "plt.errorbar(\n",
    "    server_util, \n",
    "    mean_waiting, mse_waiting, \n",
    "    fmt=':', \n",
    "    capsize=4, \n",
    "    capthick=2, \n",
    "    label='test'\n",
    ")\n",
    "plt.fill_between(server_util, mean_waiting - mse_waiting, mean_waiting + mse_waiting, alpha=0.2)\n",
    "plt.legend()\n",
    "plt.title(r'Mean waiting time as function of $\\rho$')\n",
    "plt.xlabel(r'$\\rho$')\n",
    "plt.ylabel('$E[W]$')\n",
    "plt.tight_layout()\n",
    "#plt.savefig('figures/area_conv_s.pdf')\n",
    "plt.show()"
   ]
  },
  {
   "cell_type": "code",
   "execution_count": 168,
   "id": "428d326a",
   "metadata": {},
   "outputs": [
    {
     "data": {
      "text/plain": [
       "(array([33.,  7., 11., 10., 10.,  6.,  6., 15.,  1.,  2.]),\n",
       " array([ 0.        ,  1.05995827,  2.11991653,  3.1798748 ,  4.23983307,\n",
       "         5.29979133,  6.3597496 ,  7.41970786,  8.47966613,  9.5396244 ,\n",
       "        10.59958266]),\n",
       " <BarContainer object of 10 artists>)"
      ]
     },
     "execution_count": 168,
     "metadata": {},
     "output_type": "execute_result"
    },
    {
     "data": {
      "image/png": "[encoded data removed]",
      "text/plain": [
       "<Figure size 504x432 with 1 Axes>"
      ]
     },
     "metadata": {
      "needs_background": "light"
     },
     "output_type": "display_data"
    }
   ],
   "source": [
    "plt.hist(setup1.waiting_times)"
   ]
  }
 ],
 "metadata": {
  "kernelspec": {
   "display_name": "Python 3 (ipykernel)",
   "language": "python",
   "name": "python3"
  },
  "language_info": {
   "codemirror_mode": {
    "name": "ipython",
    "version": 3
   },
   "file_extension": ".py",
   "mimetype": "text/x-python",
   "name": "python",
   "nbconvert_exporter": "python",
   "pygments_lexer": "ipython3",
   "version": "3.8.12"
  }
 },
 "nbformat": 4,
 "nbformat_minor": 5
}
