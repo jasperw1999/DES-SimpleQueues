{
 "cells": [
  {
   "cell_type": "code",
   "execution_count": 75,
   "metadata": {},
   "outputs": [],
   "source": [
    "import numpy as np\n",
    "import pandas as pd\n",
    "import matplotlib.pyplot as plt\n",
    "from math import factorial\n",
    "from scipy import integrate\n",
    "import seaborn as sns\n",
    "\n",
    "sns.set_context('talk')\n",
    "\n",
    "plt.rcParams['xtick.major.size']  = 5\n",
    "plt.rcParams['xtick.major.width'] = 1\n",
    "plt.rcParams['xtick.minor.size']  = 2\n",
    "plt.rcParams['xtick.minor.width'] = 1\n",
    "plt.rcParams['ytick.major.size']  = 5\n",
    "plt.rcParams['ytick.major.width'] = 1\n",
    "plt.rcParams['ytick.minor.size']  = 2\n",
    "plt.rcParams['ytick.minor.width'] = 1\n",
    "plt.rcParams['xtick.direction']   = 'in'\n",
    "plt.rcParams['ytick.direction']   = 'in'\n",
    "plt.rcParams['xtick.major.pad']   = 8\n",
    "plt.rcParams['xtick.top']         = True\n",
    "plt.rcParams['ytick.right']       = True\n",
    "plt.rcParams[\"figure.figsize\"]    = (7, 6)\n",
    "plt.rcParams[\"mathtext.fontset\"]  = 'stix'\n",
    "plt.rcParams[\"font.family\"]       = 'STIXGeneral'"
   ]
  },
  {
   "cell_type": "code",
   "execution_count": 76,
   "metadata": {},
   "outputs": [],
   "source": [
    "rho = 0.9\n",
    "mu = 1\n",
    "\n",
    "def EW_MM1(rho, mu, n):\n",
    "    return rho / (mu * (1 - rho))\n",
    "\n",
    "def EW_MMn(rho, mu, n):\n",
    "    pi_w = Pi_w(n, rho)\n",
    "    return pi_w / (n * mu) / (1 - rho)\n",
    "\n",
    "def Pi_w(n, rho):\n",
    "    b = B(n - 1, n * rho)\n",
    "    return rho * b / (1 - rho + rho * b)\n",
    "\n",
    "def B(n, rho):\n",
    "    B = 1\n",
    "    for i in range(1, n + 1):\n",
    "        B = rho * B / (i + rho * B)\n",
    "    return B\n",
    "\n",
    "def EW_MDn(rho, mu, n):\n",
    "    return rho ** n / factorial(n) / (1 - rho) / 2 / mu\n",
    "\n",
    "\n",
    "def EW_MM1_SPTF(rho, mu, n, upp):\n",
    "    def integrand(x):\n",
    "        return rho * np.exp(-x * mu) / (1 - (1 - np.exp(-x * mu) * (1 + x * mu)) * rho) ** 2\n",
    "    I = integrate.quad(integrand, 0, upp)\n",
    "    return I"
   ]
  },
  {
   "cell_type": "code",
   "execution_count": 77,
   "metadata": {},
   "outputs": [
    {
     "data": {
      "text/plain": [
       "(0.712686331938893, 1.5377111117172172e-11)"
      ]
     },
     "execution_count": 77,
     "metadata": {},
     "output_type": "execute_result"
    }
   ],
   "source": [
    "EW_MM1_SPTF(0.5, mu, 1, 100)"
   ]
  },
  {
   "cell_type": "code",
   "execution_count": 83,
   "metadata": {},
   "outputs": [
    {
     "data": {
      "image/png": "[encoded data removed]",
      "text/plain": [
       "<Figure size 504x432 with 1 Axes>"
      ]
     },
     "metadata": {
      "needs_background": "light"
     },
     "output_type": "display_data"
    },
    {
     "name": "stdout",
     "output_type": "stream",
     "text": [
      "\\begin{tabular}{rrr}\n",
      "\\toprule\n",
      " \\$\\textbackslash rho\\$ &     FIFO &     SPTF \\\\\n",
      "\\midrule\n",
      "   0.70 & 2.333333 & 1.312197 \\\\\n",
      "   0.75 & 3.000000 & 1.555357 \\\\\n",
      "   0.80 & 4.000000 & 1.882219 \\\\\n",
      "   0.85 & 5.666667 & 2.363774 \\\\\n",
      "   0.90 & 9.000000 & 3.196913 \\\\\n",
      "\\bottomrule\n",
      "\\end{tabular}\n",
      "\n"
     ]
    }
   ],
   "source": [
    "n = np.arange(0.7, 0.9, 0.05)\n",
    "\n",
    "mm1 = [EW_MMn(i, mu, 1) for i in n]\n",
    "mm1_sptf = [EW_MM1_SPTF(i, mu, 1, 100)[0] for i in n]\n",
    "\n",
    "plt.plot(n, mm1, label='MM1')\n",
    "plt.plot(n, mm1_sptf, label='MM1 SPTF')\n",
    "plt.legend()\n",
    "plt.show()\n",
    "\n",
    "df = pd.DataFrame({\n",
    "    '$\\rho$': n,\n",
    "    'FIFO': mm1,\n",
    "    'SPTF': mm1_sptf\n",
    "})\n",
    "print(df.to_latex(index=False))"
   ]
  },
  {
   "cell_type": "code",
   "execution_count": 79,
   "metadata": {},
   "outputs": [],
   "source": [
    "# n = np.linspace(0.7, 0.9, 100)\n",
    "# # mmn = [EW_MMn(i, mu, 1) for i in n]\n",
    "# # mdn = [EW_MM1(i, mu, 1) for i in n]\n",
    "\n",
    "# for j in [1, 2, 3, 4]:\n",
    "#     mmn = [EW_MMn(i, mu, j) for i in n]\n",
    "#     plt.plot(n , mmn, label=f'$M/M/{j}$')\n",
    "# plt.xlabel(r'$\\rho$')\n",
    "# plt.ylabel('$E[W]$')\n",
    "# plt.xlim(0.7, 0.9)\n",
    "# plt.ylim(0, )\n",
    "# plt.title('Average waiting times $M/M/n$')\n",
    "# plt.legend()"
   ]
  },
  {
   "cell_type": "code",
   "execution_count": 80,
   "metadata": {},
   "outputs": [],
   "source": [
    "# n = np.linspace(0.7, 0.9, 100)\n",
    "# mm1_sptf = [EW_MM1_SPTF(i, mu, 1) for i in n]\n",
    "# mm1 = [EW_MM1(i, mu, 1) for i in n]\n",
    "\n",
    "# plt.plot(n, mm1, label='MM1')\n",
    "# plt.plot(n, mm1_sptf, label='MM1 SPTF')\n",
    "# plt.legend()"
   ]
  },
  {
   "cell_type": "code",
   "execution_count": 81,
   "metadata": {},
   "outputs": [
    {
     "name": "stdout",
     "output_type": "stream",
     "text": [
      "\\begin{tabular}{rrr}\n",
      "\\toprule\n",
      " \\$n\\$ &  \\$M/M/n\\$ &  \\$M/D/n\\$ \\\\\n",
      "\\midrule\n",
      "0.70 & 9.000000 & 4.500000 \\\\\n",
      "0.75 & 4.263158 & 2.025000 \\\\\n",
      "0.80 & 2.723537 & 0.607500 \\\\\n",
      "0.85 & 1.969383 & 0.136688 \\\\\n",
      "0.90 & 1.524986 & 0.024604 \\\\\n",
      "\\bottomrule\n",
      "\\end{tabular}\n",
      "\n"
     ]
    }
   ],
   "source": [
    "df = pd.DataFrame({\n",
    "    '$n$': n,\n",
    "    '$M/M/n$': mmn,\n",
    "    '$M/D/n$': mdn\n",
    "})\n",
    "print(df.to_latex(index=False))"
   ]
  },
  {
   "cell_type": "code",
   "execution_count": 82,
   "metadata": {},
   "outputs": [
    {
     "name": "stdout",
     "output_type": "stream",
     "text": [
      "\\begin{tabular}{rr}\n",
      "\\toprule\n",
      " n &     E[W] \\\\\n",
      "\\midrule\n",
      " 1 & 9.000000 \\\\\n",
      " 2 & 4.263158 \\\\\n",
      " 3 & 2.723537 \\\\\n",
      " 4 & 1.969383 \\\\\n",
      " 5 & 1.524986 \\\\\n",
      " 6 & 1.233543 \\\\\n",
      " 7 & 1.028510 \\\\\n",
      " 8 & 0.876916 \\\\\n",
      " 9 & 0.760595 \\\\\n",
      "10 & 0.668732 \\\\\n",
      "\\bottomrule\n",
      "\\end{tabular}\n",
      "\n"
     ]
    }
   ],
   "source": [
    "x = np.linspace(1, 10, 10, dtype=int)\n",
    "y = [EW_MMn(rho, mu, i) for i in x]\n",
    "\n",
    "df = pd.DataFrame({\n",
    "    'n': x,\n",
    "    'E[W]': y\n",
    "})\n",
    "print(df.to_latex(index=False))\n",
    "    "
   ]
  },
  {
   "cell_type": "markdown",
   "metadata": {},
   "source": [
    "In a $M/M/1$ queue system with system load $\\rho$ and capacity $\\mu$ per server the arrival rate is given by $\\lambda = \\rho \\mu$.  In the quilibrium limit of $t \\rightarrow \\infty$ the average number of people in the queue is given by \n",
    "$$\n",
    "E[L^q] = \\frac{\\rho^2}{1 - \\rho}.\n",
    "$$\n",
    "Using Little's law as \n",
    "$$\n",
    "E[W] = \\frac{1}{\\lambda} E[L^q],\n",
    "$$\n",
    "we can infer the average waiting  time \n",
    "$$\n",
    "E[W] = \\frac{1}{\\lambda} \\frac{\\rho^2}{1 - \\rho} = \\frac{\\rho}{\\mu (1 - \\rho)}.\n",
    "$$\n",
    "(Adan 33)\n",
    "\n",
    "In the case of a $M/M/n$ queue system with $n$ servers and the same system load $\\rho$ and capacity $\\mu$ the arrival rate is given by $\\lambda = n \\rho \\mu$. The average number of people waiting in the queue is given by \n",
    "$$\n",
    "E[L^q] = \\Pi_W(n, \\rho) \\frac{\\rho}{1 - \\rho},\n",
    "$$\n",
    "with \n",
    "$$\n",
    "\\Pi_W(n, \\rho) = \\frac{(n \\rho)^n}{n!} \\left[ (1-\\rho) \\sum_{i=0}^{n-1} \\frac{(n \\rho)^i}{i!} + \\frac{(n \\rho)^n}{n!} \\right]^{-1}.\n",
    "$$\n",
    "Using Little's law again now gives us\n",
    "$$\n",
    "E[W]  = \\frac{1}{\\lambda} \\Pi_W(n, \\rho) \\frac{\\rho}{1 - \\rho} = \\Pi_W(n, \\rho) \\frac{1}{n \\mu} \\frac{1}{1 - \\rho}.\n",
    "$$\n",
    "\n",
    "The average waiting time with $\\rho = 0.9$ and $\\mu=1$ is equal for methods $M/M/1$ and $M/M/n=1$. This is to be expected since $\\Pi_W(1, \\rho) = \\rho$. For higher values of $n$ the average waiting time drops drasticly for $M/M/n$ queues dispite having an identical server load. Both the $\\Pi_W(n, \\rho)$ and $\\frac{1}{n}$ terms contribute to this decrease in waiting time. Intuitively we can imagine that  ???.\n",
    "\n",
    "<!-- \\begin{tabular}{rr}\n",
    "\\toprule\n",
    " n &     E[W] \\\\\n",
    "\\midrule\n",
    " 1 & 9.000000 \\\\\n",
    " 2 & 4.263158 \\\\\n",
    " 3 & 2.723537 \\\\\n",
    " 4 & 1.969383 \\\\\n",
    " 5 & 1.524986 \\\\\n",
    " 6 & 1.233543 \\\\\n",
    " 7 & 1.028510 \\\\\n",
    " 8 & 0.876916 \\\\\n",
    " 9 & 0.760595 \\\\\n",
    "10 & 0.668732 \\\\\n",
    "\\bottomrule\n",
    "\\end{tabular} -->\n",
    "\n"
   ]
  }
 ],
 "metadata": {
  "interpreter": {
   "hash": "b3ba2566441a7c06988d0923437866b63cedc61552a5af99d1f4fb67d367b25f"
  },
  "kernelspec": {
   "display_name": "Python 3.8.8 64-bit ('base': conda)",
   "language": "python",
   "name": "python3"
  },
  "language_info": {
   "codemirror_mode": {
    "name": "ipython",
    "version": 3
   },
   "file_extension": ".py",
   "mimetype": "text/x-python",
   "name": "python",
   "nbconvert_exporter": "python",
   "pygments_lexer": "ipython3",
   "version": "3.8.8"
  },
  "orig_nbformat": 4
 },
 "nbformat": 4,
 "nbformat_minor": 2
}
