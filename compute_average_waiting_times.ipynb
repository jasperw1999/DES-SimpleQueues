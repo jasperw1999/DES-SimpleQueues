{
 "cells": [
  {
   "cell_type": "code",
   "execution_count": 73,
   "metadata": {},
   "outputs": [],
   "source": [
    "import numpy as np\n",
    "import pandas as pd\n",
    "import matplotlib.pyplot as plt"
   ]
  },
  {
   "cell_type": "markdown",
   "metadata": {},
   "source": [
    "In a $M/M/1$ queue system with system load $\\rho$ and capacity $\\mu$ per server the arrival rate is given by $\\lambda = \\rho \\mu$.  In the quilibrium limit of $t \\rightarrow \\infty$ the average number of people in the queue is given by \n",
    "$$\n",
    "E[L^q] = \\frac{\\rho^2}{1 - \\rho}.\n",
    "$$\n",
    "Using Little's law as \n",
    "$$\n",
    "E[W] = \\frac{1}{\\lambda} E[L^q],\n",
    "$$\n",
    "we can infer the average waiting  time \n",
    "$$\n",
    "E[W] = \\frac{1}{\\lambda} \\frac{\\rho^2}{1 - \\rho} = \\frac{\\rho}{\\mu (1 - \\rho)}.\n",
    "$$\n",
    "(Adan 33)\n",
    "\n",
    "In the case of a $M/M/n$ queue system with $n$ servers and the same system load $\\rho$ and capacity $\\mu$ the arrival rate is given by $\\lambda = n \\rho \\mu$. The average number of people waiting in the queue is given by \n",
    "$$\n",
    "E[L^q] = \\Pi_W(n, \\rho) \\frac{\\rho}{1 - \\rho},\n",
    "$$\n",
    "with \n",
    "$$\n",
    "\\Pi_W(n, \\rho) = \\frac{(n \\rho)^n}{n!} \\left[ (1-\\rho) \\sum_{i=0}^{n-1} \\frac{(n \\rho)^i}{i!} + \\frac{(n \\rho)^n}{n!} \\right]^{-1}.\n",
    "$$\n",
    "Using Little's law again now gives us\n",
    "$$\n",
    "E[W]  = \\frac{1}{\\lambda} \\Pi_W(n, \\rho) \\frac{\\rho}{1 - \\rho} = \\Pi_W(n, \\rho) \\frac{1}{n \\mu} \\frac{1}{1 - \\rho}.\n",
    "$$\n",
    "\n",
    "The average waiting time with $\\rho = 0.9$ and $\\mu=1$ is equal for methods $M/M/1$ and $M/M/n=1$. This is to be expected since $\\Pi_W(1, \\rho) = \\rho$. For higher values of $n$ the average waiting time drops drasticly for $M/M/n$ queues dispite having an identical server load. Both the $\\Pi_W(n, \\rho)$ and $\\frac{1}{n}$ terms contribute to this decrease in waiting time. Intuitively we can imagine that  ???.\n",
    "\n",
    "<!-- \\begin{tabular}{rr}\n",
    "\\toprule\n",
    " n &     E[W] \\\\\n",
    "\\midrule\n",
    " 1 & 9.000000 \\\\\n",
    " 2 & 4.263158 \\\\\n",
    " 3 & 2.723537 \\\\\n",
    " 4 & 1.969383 \\\\\n",
    " 5 & 1.524986 \\\\\n",
    " 6 & 1.233543 \\\\\n",
    " 7 & 1.028510 \\\\\n",
    " 8 & 0.876916 \\\\\n",
    " 9 & 0.760595 \\\\\n",
    "10 & 0.668732 \\\\\n",
    "\\bottomrule\n",
    "\\end{tabular} -->\n",
    "\n"
   ]
  },
  {
   "cell_type": "code",
   "execution_count": 74,
   "metadata": {},
   "outputs": [],
   "source": [
    "rho = 0.9\n",
    "mu = 1\n",
    "\n",
    "def EW_MM1(rho, mu):\n",
    "    return rho / (mu * (1 - rho))\n",
    "\n",
    "def EW_MMn(rho, mu, n):\n",
    "    pi_w = Pi_w(n, rho)\n",
    "    return pi_w / (n * mu) / (1 - rho)\n",
    "\n",
    "def Pi_w(n, rho):\n",
    "    b = B(n - 1, n * rho)\n",
    "    return rho * b / (1 - rho + rho * b)\n",
    "\n",
    "def B(n, rho):\n",
    "    B = 1\n",
    "    for i in range(1, n + 1):\n",
    "        B = rho * B / (i + rho * B)\n",
    "    return B"
   ]
  },
  {
   "cell_type": "code",
   "execution_count": 75,
   "metadata": {},
   "outputs": [
    {
     "name": "stdout",
     "output_type": "stream",
     "text": [
      "\\begin{tabular}{rr}\n",
      "\\toprule\n",
      " n &     E[W] \\\\\n",
      "\\midrule\n",
      " 1 & 9.000000 \\\\\n",
      " 2 & 4.263158 \\\\\n",
      " 3 & 2.723537 \\\\\n",
      " 4 & 1.969383 \\\\\n",
      " 5 & 1.524986 \\\\\n",
      " 6 & 1.233543 \\\\\n",
      " 7 & 1.028510 \\\\\n",
      " 8 & 0.876916 \\\\\n",
      " 9 & 0.760595 \\\\\n",
      "10 & 0.668732 \\\\\n",
      "\\bottomrule\n",
      "\\end{tabular}\n",
      "\n"
     ]
    }
   ],
   "source": [
    "x = np.linspace(1, 10, 10, dtype=int)\n",
    "y = [EW_MMn(rho, mu, i) for i in x]\n",
    "\n",
    "df = pd.DataFrame({\n",
    "    'n': x,\n",
    "    'E[W]': y\n",
    "})\n",
    "print(df.to_latex(index=False))\n",
    "    "
   ]
  }
 ],
 "metadata": {
  "interpreter": {
   "hash": "b3ba2566441a7c06988d0923437866b63cedc61552a5af99d1f4fb67d367b25f"
  },
  "kernelspec": {
   "display_name": "Python 3.8.8 64-bit ('base': conda)",
   "language": "python",
   "name": "python3"
  },
  "language_info": {
   "codemirror_mode": {
    "name": "ipython",
    "version": 3
   },
   "file_extension": ".py",
   "mimetype": "text/x-python",
   "name": "python",
   "nbconvert_exporter": "python",
   "pygments_lexer": "ipython3",
   "version": "3.9.7"
  },
  "orig_nbformat": 4
 },
 "nbformat": 4,
 "nbformat_minor": 2
}
